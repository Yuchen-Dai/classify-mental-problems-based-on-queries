{
 "cells": [
  {
   "cell_type": "markdown",
   "metadata": {},
   "source": [
    "### Read training, dev and unlabeled test data"
   ]
  },
  {
   "cell_type": "code",
   "execution_count": 1,
   "metadata": {},
   "outputs": [],
   "source": [
    "import pandas as pd\n",
    "from sklearn.model_selection import train_test_split\n",
    "from sklearn.naive_bayes import MultinomialNB\n",
    "from sklearn.preprocessing import LabelEncoder\n",
    "from sklearn.multiclass import OneVsRestClassifier\n",
    "import string\n",
    "from nltk.tokenize import word_tokenize\n",
    "import nltk\n",
    "from sklearn.feature_extraction.text import TfidfVectorizer\n",
    "from sklearn import svm\n",
    "from sklearn.metrics import f1_score\n"
   ]
  },
  {
   "cell_type": "markdown",
   "metadata": {},
   "source": [
    "Process the data"
   ]
  },
  {
   "cell_type": "code",
   "execution_count": 2,
   "metadata": {},
   "outputs": [
    {
     "name": "stderr",
     "output_type": "stream",
     "text": [
      "[nltk_data] Downloading package punkt to /Users/lyuangyu/nltk_data...\n",
      "[nltk_data]   Package punkt is already up-to-date!\n",
      "/var/folders/qb/cdx78cd149j1783q86m3zvy00000gn/T/ipykernel_10747/2770137839.py:7: FutureWarning: The default value of regex will change from True to False in a future version.\n",
      "  new_dataset['content'] = new_dataset['content'].str.replace('[^\\w\\s]','')\n"
     ]
    },
    {
     "data": {
      "text/html": [
       "<div>\n",
       "<style scoped>\n",
       "    .dataframe tbody tr th:only-of-type {\n",
       "        vertical-align: middle;\n",
       "    }\n",
       "\n",
       "    .dataframe tbody tr th {\n",
       "        vertical-align: top;\n",
       "    }\n",
       "\n",
       "    .dataframe thead th {\n",
       "        text-align: right;\n",
       "    }\n",
       "</style>\n",
       "<table border=\"1\" class=\"dataframe\">\n",
       "  <thead>\n",
       "    <tr style=\"text-align: right;\">\n",
       "      <th></th>\n",
       "      <th>Unnamed: 0</th>\n",
       "      <th>labels</th>\n",
       "      <th>content</th>\n",
       "    </tr>\n",
       "  </thead>\n",
       "  <tbody>\n",
       "    <tr>\n",
       "      <th>0</th>\n",
       "      <td>0</td>\n",
       "      <td>[1, 0, 0, 0, 0, 0, 0, 0, 0, 0, 0]</td>\n",
       "      <td>['how', 'do', 'i', 'deal', 'with', 'my', 'alco...</td>\n",
       "    </tr>\n",
       "    <tr>\n",
       "      <th>1</th>\n",
       "      <td>1</td>\n",
       "      <td>[0, 1, 0, 0, 0, 0, 0, 0, 0, 0, 0]</td>\n",
       "      <td>['how', 'can', 'i', 'slow', 'down', 'and', 'en...</td>\n",
       "    </tr>\n",
       "    <tr>\n",
       "      <th>2</th>\n",
       "      <td>2</td>\n",
       "      <td>[0, 0, 1, 0, 0, 0, 0, 0, 0, 0, 1]</td>\n",
       "      <td>['im', 'depressed', 'because', 'my', 'wife', '...</td>\n",
       "    </tr>\n",
       "    <tr>\n",
       "      <th>3</th>\n",
       "      <td>3</td>\n",
       "      <td>[0, 1, 1, 0, 0, 0, 0, 0, 0, 0, 0]</td>\n",
       "      <td>['im', 'scared', 'to', 'go', 'to', 'a', 'docto...</td>\n",
       "    </tr>\n",
       "    <tr>\n",
       "      <th>4</th>\n",
       "      <td>4</td>\n",
       "      <td>[0, 0, 0, 1, 0, 0, 0, 0, 0, 0, 0]</td>\n",
       "      <td>['is', 'it', 'normal', 'to', 'blame', 'myself'...</td>\n",
       "    </tr>\n",
       "  </tbody>\n",
       "</table>\n",
       "</div>"
      ],
      "text/plain": [
       "   Unnamed: 0                             labels  \\\n",
       "0           0  [1, 0, 0, 0, 0, 0, 0, 0, 0, 0, 0]   \n",
       "1           1  [0, 1, 0, 0, 0, 0, 0, 0, 0, 0, 0]   \n",
       "2           2  [0, 0, 1, 0, 0, 0, 0, 0, 0, 0, 1]   \n",
       "3           3  [0, 1, 1, 0, 0, 0, 0, 0, 0, 0, 0]   \n",
       "4           4  [0, 0, 0, 1, 0, 0, 0, 0, 0, 0, 0]   \n",
       "\n",
       "                                             content  \n",
       "0  ['how', 'do', 'i', 'deal', 'with', 'my', 'alco...  \n",
       "1  ['how', 'can', 'i', 'slow', 'down', 'and', 'en...  \n",
       "2  ['im', 'depressed', 'because', 'my', 'wife', '...  \n",
       "3  ['im', 'scared', 'to', 'go', 'to', 'a', 'docto...  \n",
       "4  ['is', 'it', 'normal', 'to', 'blame', 'myself'...  "
      ]
     },
     "execution_count": 2,
     "metadata": {},
     "output_type": "execute_result"
    }
   ],
   "source": [
    "nltk.download('punkt')\n",
    "new_dataset = pd.read_csv('new_dataset.csv')\n",
    "#to lowercase\n",
    "new_dataset['content'] = [entry.lower() for entry in new_dataset['content']]\n",
    "\n",
    "#remove punct\n",
    "new_dataset['content'] = new_dataset['content'].str.replace('[^\\w\\s]','')\n",
    "\n",
    "#make each text into tokens of word string\n",
    "new_dataset['content'] = [str(word_tokenize(entry)) for entry in new_dataset['content']]\n",
    "\n",
    "new_dataset.to_csv('word_form.csv', index = False)\n",
    "\n",
    "new_dataset.head()"
   ]
  },
  {
   "cell_type": "markdown",
   "metadata": {},
   "source": [
    "Split the data and encode the data"
   ]
  },
  {
   "cell_type": "code",
   "execution_count": 3,
   "metadata": {},
   "outputs": [],
   "source": [
    "text_train, text_test, y_train, y_test = train_test_split(new_dataset['content'],new_dataset['labels'],test_size=0.2, random_state=50)\n",
    "\n",
    "# Vectorize text reviews to numbers by TF-IDF\n",
    "Tfidf_vect_text = TfidfVectorizer(max_features=10000, stop_words = 'english')\n",
    "Tfidf_vect_text.fit(new_dataset['content'])\n",
    "train_x_text = Tfidf_vect_text.transform(text_train)\n",
    "test_x_text = Tfidf_vect_text.transform(text_test)\n"
   ]
  },
  {
   "cell_type": "markdown",
   "metadata": {},
   "source": [
    "Naive bayes for text"
   ]
  },
  {
   "cell_type": "code",
   "execution_count": 8,
   "metadata": {},
   "outputs": [
    {
     "data": {
      "text/plain": [
       "0.23333333333333334"
      ]
     },
     "execution_count": 8,
     "metadata": {},
     "output_type": "execute_result"
    }
   ],
   "source": [
    "clf = OneVsRestClassifier(MultinomialNB()).fit(train_x_text, y_train)\n",
    "clf.score(test_x_text, y_test) \n",
    "#y_predict = clf.predict(test_x_text)\n",
    "#f1_score(y_test, y_predict, average = 'macro')"
   ]
  },
  {
   "cell_type": "markdown",
   "metadata": {},
   "source": [
    "SVM for text"
   ]
  },
  {
   "cell_type": "code",
   "execution_count": 9,
   "metadata": {},
   "outputs": [
    {
     "data": {
      "text/plain": [
       "0.3466666666666667"
      ]
     },
     "execution_count": 9,
     "metadata": {},
     "output_type": "execute_result"
    }
   ],
   "source": [
    "SVM1 = svm.SVC(C=1.0, kernel='linear', degree=5, gamma='auto')\n",
    "clf = OneVsRestClassifier(SVM1).fit(train_x_text, y_train)\n",
    "clf.score(test_x_text, y_test)\n",
    "#y_predict = clf.predict(test_x_text)\n",
    "#f1_score(y_test, y_predict, average = 'macro')"
   ]
  }
 ],
 "metadata": {
  "kernelspec": {
   "display_name": "Python 3",
   "language": "python",
   "name": "python3"
  },
  "language_info": {
   "codemirror_mode": {
    "name": "ipython",
    "version": 3
   },
   "file_extension": ".py",
   "mimetype": "text/x-python",
   "name": "python",
   "nbconvert_exporter": "python",
   "pygments_lexer": "ipython3",
   "version": "3.8.9"
  }
 },
 "nbformat": 4,
 "nbformat_minor": 4
}
